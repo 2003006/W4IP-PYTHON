{
  "nbformat": 4,
  "nbformat_minor": 0,
  "metadata": {
    "colab": {
      "name": "GLORIAWEEK4IP,ipynb",
      "provenance": [],
      "collapsed_sections": [],
      "authorship_tag": "ABX9TyOsSD9FEDPbqV9xrQioMzaG",
      "include_colab_link": true
    },
    "kernelspec": {
      "name": "python3",
      "display_name": "Python 3"
    },
    "language_info": {
      "name": "python"
    }
  },
  "cells": [
    {
      "cell_type": "markdown",
      "metadata": {
        "id": "view-in-github",
        "colab_type": "text"
      },
      "source": [
        "<a href=\"https://colab.research.google.com/github/2003006/W4IP-PYTHON/blob/main/GLORIAWEEK4IP%2Cipynb.ipynb\" target=\"_parent\"><img src=\"https://colab.research.google.com/assets/colab-badge.svg\" alt=\"Open In Colab\"/></a>"
      ]
    },
    {
      "cell_type": "markdown",
      "metadata": {
        "id": "rfGIwI17DM7_"
      },
      "source": [
        "####1.0 Importing Libraries."
      ]
    },
    {
      "cell_type": "code",
      "metadata": {
        "id": "sOqOEnSICsKs"
      },
      "source": [
        "# Importing the libraries we will need \n",
        "\n",
        "# Importing the pandas library\n",
        "# \n",
        "import pandas as pd\n",
        "\n",
        "# Importing the numpy library\n",
        "#\n",
        "import numpy as np"
      ],
      "execution_count": 2,
      "outputs": []
    },
    {
      "cell_type": "markdown",
      "metadata": {
        "id": "cT48X18LDg7u"
      },
      "source": [
        "####1.1 Loading our dataset."
      ]
    },
    {
      "cell_type": "code",
      "metadata": {
        "id": "qzfYBTLyDfxe"
      },
      "source": [
        "#reading  data from the CSV file and creating the dataframe that i will use\n",
        "fd = pd.read_csv('/content/Autolib_dataset (2).csv')"
      ],
      "execution_count": 3,
      "outputs": []
    },
    {
      "cell_type": "markdown",
      "metadata": {
        "id": "DzPb_TOsDzni"
      },
      "source": [
        "####1.2 Previewing our dataset."
      ]
    },
    {
      "cell_type": "code",
      "metadata": {
        "colab": {
          "base_uri": "https://localhost:8080/",
          "height": 206
        },
        "id": "2-K61BmVDxHg",
        "outputId": "e1ecc540-46c1-4c7a-9cbd-5f1cc9891004"
      },
      "source": [
        "#previewing my first 2 rows\n",
        "fd.head(2)"
      ],
      "execution_count": 4,
      "outputs": [
        {
          "output_type": "execute_result",
          "data": {
            "text/html": [
              "<div>\n",
              "<style scoped>\n",
              "    .dataframe tbody tr th:only-of-type {\n",
              "        vertical-align: middle;\n",
              "    }\n",
              "\n",
              "    .dataframe tbody tr th {\n",
              "        vertical-align: top;\n",
              "    }\n",
              "\n",
              "    .dataframe thead th {\n",
              "        text-align: right;\n",
              "    }\n",
              "</style>\n",
              "<table border=\"1\" class=\"dataframe\">\n",
              "  <thead>\n",
              "    <tr style=\"text-align: right;\">\n",
              "      <th></th>\n",
              "      <th>Address</th>\n",
              "      <th>Cars</th>\n",
              "      <th>Bluecar counter</th>\n",
              "      <th>Utilib counter</th>\n",
              "      <th>Utilib 1.4 counter</th>\n",
              "      <th>Charge Slots</th>\n",
              "      <th>Charging Status</th>\n",
              "      <th>City</th>\n",
              "      <th>Displayed comment</th>\n",
              "      <th>ID</th>\n",
              "      <th>Kind</th>\n",
              "      <th>Geo point</th>\n",
              "      <th>Postal code</th>\n",
              "      <th>Public name</th>\n",
              "      <th>Rental status</th>\n",
              "      <th>Scheduled at</th>\n",
              "      <th>Slots</th>\n",
              "      <th>Station type</th>\n",
              "      <th>Status</th>\n",
              "      <th>Subscription status</th>\n",
              "      <th>year</th>\n",
              "      <th>month</th>\n",
              "      <th>day</th>\n",
              "      <th>hour</th>\n",
              "      <th>minute</th>\n",
              "    </tr>\n",
              "  </thead>\n",
              "  <tbody>\n",
              "    <tr>\n",
              "      <th>0</th>\n",
              "      <td>2 Avenue de Suffren</td>\n",
              "      <td>0</td>\n",
              "      <td>0</td>\n",
              "      <td>0</td>\n",
              "      <td>0</td>\n",
              "      <td>0</td>\n",
              "      <td>nonexistent</td>\n",
              "      <td>Paris</td>\n",
              "      <td>NaN</td>\n",
              "      <td>paris-suffren-2</td>\n",
              "      <td>STATION</td>\n",
              "      <td>48.857, 2.2917</td>\n",
              "      <td>75015</td>\n",
              "      <td>Paris/Suffren/2</td>\n",
              "      <td>operational</td>\n",
              "      <td>NaN</td>\n",
              "      <td>2</td>\n",
              "      <td>station</td>\n",
              "      <td>ok</td>\n",
              "      <td>nonexistent</td>\n",
              "      <td>2018</td>\n",
              "      <td>4</td>\n",
              "      <td>8</td>\n",
              "      <td>11</td>\n",
              "      <td>43</td>\n",
              "    </tr>\n",
              "    <tr>\n",
              "      <th>1</th>\n",
              "      <td>145 Rue Raymond Losserand</td>\n",
              "      <td>6</td>\n",
              "      <td>6</td>\n",
              "      <td>0</td>\n",
              "      <td>0</td>\n",
              "      <td>0</td>\n",
              "      <td>operational</td>\n",
              "      <td>Paris</td>\n",
              "      <td>NaN</td>\n",
              "      <td>paris-raymondlosserand-145</td>\n",
              "      <td>STATION</td>\n",
              "      <td>48.83126, 2.313088</td>\n",
              "      <td>75014</td>\n",
              "      <td>Paris/Raymond Losserand/145</td>\n",
              "      <td>operational</td>\n",
              "      <td>NaN</td>\n",
              "      <td>0</td>\n",
              "      <td>station</td>\n",
              "      <td>ok</td>\n",
              "      <td>nonexistent</td>\n",
              "      <td>2018</td>\n",
              "      <td>4</td>\n",
              "      <td>6</td>\n",
              "      <td>7</td>\n",
              "      <td>24</td>\n",
              "    </tr>\n",
              "  </tbody>\n",
              "</table>\n",
              "</div>"
            ],
            "text/plain": [
              "                     Address  Cars  Bluecar counter  ...  day  hour  minute\n",
              "0        2 Avenue de Suffren     0                0  ...    8    11      43\n",
              "1  145 Rue Raymond Losserand     6                6  ...    6     7      24\n",
              "\n",
              "[2 rows x 25 columns]"
            ]
          },
          "metadata": {
            "tags": []
          },
          "execution_count": 4
        }
      ]
    },
    {
      "cell_type": "markdown",
      "metadata": {
        "id": "Y19bh-BeEVUZ"
      },
      "source": [
        "####1.3 Accessing information about my dataset"
      ]
    },
    {
      "cell_type": "code",
      "metadata": {
        "colab": {
          "base_uri": "https://localhost:8080/"
        },
        "id": "Oi8j5MR2EJM7",
        "outputId": "8dd067dd-f839-4e28-f7e5-1d549c43f926"
      },
      "source": [
        "#getting information about my dataset\n",
        "fd.info()"
      ],
      "execution_count": 5,
      "outputs": [
        {
          "output_type": "stream",
          "text": [
            "<class 'pandas.core.frame.DataFrame'>\n",
            "RangeIndex: 5000 entries, 0 to 4999\n",
            "Data columns (total 25 columns):\n",
            " #   Column               Non-Null Count  Dtype \n",
            "---  ------               --------------  ----- \n",
            " 0   Address              5000 non-null   object\n",
            " 1   Cars                 5000 non-null   int64 \n",
            " 2   Bluecar counter      5000 non-null   int64 \n",
            " 3   Utilib counter       5000 non-null   int64 \n",
            " 4   Utilib 1.4 counter   5000 non-null   int64 \n",
            " 5   Charge Slots         5000 non-null   int64 \n",
            " 6   Charging Status      5000 non-null   object\n",
            " 7   City                 5000 non-null   object\n",
            " 8   Displayed comment    111 non-null    object\n",
            " 9   ID                   5000 non-null   object\n",
            " 10  Kind                 5000 non-null   object\n",
            " 11  Geo point            5000 non-null   object\n",
            " 12  Postal code          5000 non-null   int64 \n",
            " 13  Public name          5000 non-null   object\n",
            " 14  Rental status        5000 non-null   object\n",
            " 15  Scheduled at         47 non-null     object\n",
            " 16  Slots                5000 non-null   int64 \n",
            " 17  Station type         5000 non-null   object\n",
            " 18  Status               5000 non-null   object\n",
            " 19  Subscription status  5000 non-null   object\n",
            " 20  year                 5000 non-null   int64 \n",
            " 21  month                5000 non-null   int64 \n",
            " 22  day                  5000 non-null   int64 \n",
            " 23  hour                 5000 non-null   int64 \n",
            " 24  minute               5000 non-null   int64 \n",
            "dtypes: int64(12), object(13)\n",
            "memory usage: 976.7+ KB\n"
          ],
          "name": "stdout"
        }
      ]
    },
    {
      "cell_type": "markdown",
      "metadata": {
        "id": "dJjOG2AREvht"
      },
      "source": [
        "####1.4 Performing data cleaning to my dataset"
      ]
    },
    {
      "cell_type": "markdown",
      "metadata": {
        "id": "Msj5jd1EE5Xi"
      },
      "source": [
        "######1.40 Validity"
      ]
    },
    {
      "cell_type": "markdown",
      "metadata": {
        "id": "7KCKu3oJFLQq"
      },
      "source": [
        "Dropping columns."
      ]
    },
    {
      "cell_type": "code",
      "metadata": {
        "id": "LMS6xLUDEo7p"
      },
      "source": [
        "#i am going to drop columns that i won't be needing in analysis\n",
        "#this columns i won't be needing them and they all contain null values\n",
        "fd.drop(['Displayed comment','Scheduled at'],axis=1, inplace=True)"
      ],
      "execution_count": 6,
      "outputs": []
    },
    {
      "cell_type": "code",
      "metadata": {
        "id": "BgxAtXdjGEzW"
      },
      "source": [
        "#i have dropped cars column since it contains data same as that of bluecar counter\n",
        "#dropped year and month since in the data description we already know the data was collected from same month and year\n",
        "# dropped geo point since i wont be needing it in analysis \n",
        "fd.drop(['Cars','ID','Geo point','year','month'],axis=1,inplace=True)"
      ],
      "execution_count": 7,
      "outputs": []
    },
    {
      "cell_type": "code",
      "metadata": {
        "colab": {
          "base_uri": "https://localhost:8080/",
          "height": 186
        },
        "id": "NgmnSVs_Gxw-",
        "outputId": "d6620ae8-1bcb-4298-e8b5-97304a57a69a"
      },
      "source": [
        "#viewing the remaining columns\n",
        "fd.head(2)"
      ],
      "execution_count": 8,
      "outputs": [
        {
          "output_type": "execute_result",
          "data": {
            "text/html": [
              "<div>\n",
              "<style scoped>\n",
              "    .dataframe tbody tr th:only-of-type {\n",
              "        vertical-align: middle;\n",
              "    }\n",
              "\n",
              "    .dataframe tbody tr th {\n",
              "        vertical-align: top;\n",
              "    }\n",
              "\n",
              "    .dataframe thead th {\n",
              "        text-align: right;\n",
              "    }\n",
              "</style>\n",
              "<table border=\"1\" class=\"dataframe\">\n",
              "  <thead>\n",
              "    <tr style=\"text-align: right;\">\n",
              "      <th></th>\n",
              "      <th>Address</th>\n",
              "      <th>Bluecar counter</th>\n",
              "      <th>Utilib counter</th>\n",
              "      <th>Utilib 1.4 counter</th>\n",
              "      <th>Charge Slots</th>\n",
              "      <th>Charging Status</th>\n",
              "      <th>City</th>\n",
              "      <th>Kind</th>\n",
              "      <th>Postal code</th>\n",
              "      <th>Public name</th>\n",
              "      <th>Rental status</th>\n",
              "      <th>Slots</th>\n",
              "      <th>Station type</th>\n",
              "      <th>Status</th>\n",
              "      <th>Subscription status</th>\n",
              "      <th>day</th>\n",
              "      <th>hour</th>\n",
              "      <th>minute</th>\n",
              "    </tr>\n",
              "  </thead>\n",
              "  <tbody>\n",
              "    <tr>\n",
              "      <th>0</th>\n",
              "      <td>2 Avenue de Suffren</td>\n",
              "      <td>0</td>\n",
              "      <td>0</td>\n",
              "      <td>0</td>\n",
              "      <td>0</td>\n",
              "      <td>nonexistent</td>\n",
              "      <td>Paris</td>\n",
              "      <td>STATION</td>\n",
              "      <td>75015</td>\n",
              "      <td>Paris/Suffren/2</td>\n",
              "      <td>operational</td>\n",
              "      <td>2</td>\n",
              "      <td>station</td>\n",
              "      <td>ok</td>\n",
              "      <td>nonexistent</td>\n",
              "      <td>8</td>\n",
              "      <td>11</td>\n",
              "      <td>43</td>\n",
              "    </tr>\n",
              "    <tr>\n",
              "      <th>1</th>\n",
              "      <td>145 Rue Raymond Losserand</td>\n",
              "      <td>6</td>\n",
              "      <td>0</td>\n",
              "      <td>0</td>\n",
              "      <td>0</td>\n",
              "      <td>operational</td>\n",
              "      <td>Paris</td>\n",
              "      <td>STATION</td>\n",
              "      <td>75014</td>\n",
              "      <td>Paris/Raymond Losserand/145</td>\n",
              "      <td>operational</td>\n",
              "      <td>0</td>\n",
              "      <td>station</td>\n",
              "      <td>ok</td>\n",
              "      <td>nonexistent</td>\n",
              "      <td>6</td>\n",
              "      <td>7</td>\n",
              "      <td>24</td>\n",
              "    </tr>\n",
              "  </tbody>\n",
              "</table>\n",
              "</div>"
            ],
            "text/plain": [
              "                     Address  Bluecar counter  ...  hour  minute\n",
              "0        2 Avenue de Suffren                0  ...    11      43\n",
              "1  145 Rue Raymond Losserand                6  ...     7      24\n",
              "\n",
              "[2 rows x 18 columns]"
            ]
          },
          "metadata": {
            "tags": []
          },
          "execution_count": 8
        }
      ]
    },
    {
      "cell_type": "markdown",
      "metadata": {
        "id": "-Np_8MOQHuqi"
      },
      "source": [
        "######1.41 Accuracy"
      ]
    },
    {
      "cell_type": "markdown",
      "metadata": {
        "id": "fMUlt4AHawrL"
      },
      "source": [
        "Checking the shape of my dataset after dropping"
      ]
    },
    {
      "cell_type": "code",
      "metadata": {
        "colab": {
          "base_uri": "https://localhost:8080/"
        },
        "id": "FmxqFJg7G6ic",
        "outputId": "8121e40b-bed9-4f7a-a424-9d9113952c0e"
      },
      "source": [
        "#before dropping the columns not needed i had 24columns and 5000 rows\n",
        "fd.shape\n",
        "\n",
        "#after dropping columns i had 18 columns and 5000 rows\n",
        "#concluding that it is accurate\n"
      ],
      "execution_count": 9,
      "outputs": [
        {
          "output_type": "execute_result",
          "data": {
            "text/plain": [
              "(5000, 18)"
            ]
          },
          "metadata": {
            "tags": []
          },
          "execution_count": 9
        }
      ]
    },
    {
      "cell_type": "markdown",
      "metadata": {
        "id": "mNSHsLq8dVFD"
      },
      "source": [
        "Accuracy for bluecar counter"
      ]
    },
    {
      "cell_type": "code",
      "metadata": {
        "id": "qevlf3DCbrUa"
      },
      "source": [
        "#valus in blue car counter ranges from 0-7 ,7 included\n",
        "values = fd[(fd['Bluecar counter'] < 0) & (fd['Bluecar counter'] >= 7) ].index\n",
        "fd.drop(values , inplace=True)"
      ],
      "execution_count": 13,
      "outputs": []
    },
    {
      "cell_type": "code",
      "metadata": {
        "colab": {
          "base_uri": "https://localhost:8080/"
        },
        "id": "PcRKlF9Mc21V",
        "outputId": "509e7393-abd8-4ec5-bc51-16a656d97d8f"
      },
      "source": [
        "fd.shape\n",
        "#no change in the shape of my dataset"
      ],
      "execution_count": 14,
      "outputs": [
        {
          "output_type": "execute_result",
          "data": {
            "text/plain": [
              "(5000, 18)"
            ]
          },
          "metadata": {
            "tags": []
          },
          "execution_count": 14
        }
      ]
    },
    {
      "cell_type": "markdown",
      "metadata": {
        "id": "YClT4_HOdjaz"
      },
      "source": [
        "Accuracy for Utilib counter"
      ]
    },
    {
      "cell_type": "code",
      "metadata": {
        "id": "1L4nheX7doDc"
      },
      "source": [
        "#values for utilib counter ranges from 0-4, 4 included\n",
        "values = fd[(fd['Utilib counter'] < 0) & (fd['Utilib counter'] >= 4) ].index\n",
        "fd.drop(values , inplace=True)"
      ],
      "execution_count": 16,
      "outputs": []
    },
    {
      "cell_type": "code",
      "metadata": {
        "colab": {
          "base_uri": "https://localhost:8080/"
        },
        "id": "uSMlOGSwebWL",
        "outputId": "a9bf4b61-84d6-4349-fb16-f52908ba3b17"
      },
      "source": [
        "fd.shape\n",
        "#no change occurred in the shape of my dataset"
      ],
      "execution_count": 17,
      "outputs": [
        {
          "output_type": "execute_result",
          "data": {
            "text/plain": [
              "(5000, 18)"
            ]
          },
          "metadata": {
            "tags": []
          },
          "execution_count": 17
        }
      ]
    },
    {
      "cell_type": "markdown",
      "metadata": {
        "id": "1-UDlfuJfRgo"
      },
      "source": [
        "Accuracy for my utilib 1.4 counter"
      ]
    },
    {
      "cell_type": "code",
      "metadata": {
        "id": "Jl_6Os2-e95L"
      },
      "source": [
        "#values for utilib 1.4 counter ranges from 0-5, 5 included\n",
        "values = fd[(fd['Utilib 1.4 counter'] < 0) & (fd['Utilib 1.4 counter'] >= 4) ].index\n",
        "fd.drop(values , inplace=True)"
      ],
      "execution_count": 18,
      "outputs": []
    },
    {
      "cell_type": "code",
      "metadata": {
        "colab": {
          "base_uri": "https://localhost:8080/"
        },
        "id": "dviOkuMQfMYs",
        "outputId": "a1c2eb89-d722-4a70-df09-efd80b377c3b"
      },
      "source": [
        "fd.shape\n",
        "#no change occured in the shape hence my data was accurate"
      ],
      "execution_count": 19,
      "outputs": [
        {
          "output_type": "execute_result",
          "data": {
            "text/plain": [
              "(5000, 18)"
            ]
          },
          "metadata": {
            "tags": []
          },
          "execution_count": 19
        }
      ]
    },
    {
      "cell_type": "markdown",
      "metadata": {
        "id": "jMKBYUCxejsH"
      },
      "source": [
        "Accuracy for Utilib 1.4 counter"
      ]
    },
    {
      "cell_type": "code",
      "metadata": {
        "id": "mcbR-l4SesUh"
      },
      "source": [
        ""
      ],
      "execution_count": null,
      "outputs": []
    },
    {
      "cell_type": "markdown",
      "metadata": {
        "id": "8SVPLJe9H4NH"
      },
      "source": [
        "######1.42 Completeness"
      ]
    },
    {
      "cell_type": "markdown",
      "metadata": {
        "id": "02AP5bfvIM_L"
      },
      "source": [
        "Checking for null values\n"
      ]
    },
    {
      "cell_type": "code",
      "metadata": {
        "colab": {
          "base_uri": "https://localhost:8080/"
        },
        "id": "NlexyBf1IGdo",
        "outputId": "713b03dd-ac8b-4201-f744-1482e80b39ee"
      },
      "source": [
        "#i will start by checking for null values\n",
        "fd.isnull().sum()\n",
        "\n",
        "#there are no null values in my dataset"
      ],
      "execution_count": 17,
      "outputs": [
        {
          "output_type": "execute_result",
          "data": {
            "text/plain": [
              "Address                0\n",
              "Bluecar counter        0\n",
              "Utilib counter         0\n",
              "Utilib 1.4 counter     0\n",
              "Charge Slots           0\n",
              "Charging Status        0\n",
              "City                   0\n",
              "Kind                   0\n",
              "Postal code            0\n",
              "Public name            0\n",
              "Rental status          0\n",
              "Slots                  0\n",
              "Station type           0\n",
              "Status                 0\n",
              "Subscription status    0\n",
              "day                    0\n",
              "hour                   0\n",
              "minute                 0\n",
              "dtype: int64"
            ]
          },
          "metadata": {
            "tags": []
          },
          "execution_count": 17
        }
      ]
    },
    {
      "cell_type": "markdown",
      "metadata": {
        "id": "0i1j4_L7JTTd"
      },
      "source": [
        "######1.43 Consistency"
      ]
    },
    {
      "cell_type": "markdown",
      "metadata": {
        "id": "xuQE9EQMJdQr"
      },
      "source": [
        "Checking for duplicates"
      ]
    },
    {
      "cell_type": "code",
      "metadata": {
        "colab": {
          "base_uri": "https://localhost:8080/"
        },
        "id": "a6I93MIFI2f9",
        "outputId": "b648e9e7-8104-4ee7-af4f-cc3cd3052046"
      },
      "source": [
        "#i will be checking for duplicates in my datset\n",
        "fd.duplicated().sum()"
      ],
      "execution_count": 19,
      "outputs": [
        {
          "output_type": "execute_result",
          "data": {
            "text/plain": [
              "0"
            ]
          },
          "metadata": {
            "tags": []
          },
          "execution_count": 19
        }
      ]
    },
    {
      "cell_type": "markdown",
      "metadata": {
        "id": "5AmsBB2uKD7M"
      },
      "source": [
        "######1.41 Uniformity"
      ]
    },
    {
      "cell_type": "code",
      "metadata": {
        "id": "OInsmmQHJxR2"
      },
      "source": [
        "#i will change my column names to lower case and remove all spaces and white spaces\n",
        "fd.columns = fd.columns.str.strip().str.lower().str.replace(' ', '_').str.replace('(', '').str.replace(')', '')\n"
      ],
      "execution_count": 23,
      "outputs": []
    },
    {
      "cell_type": "code",
      "metadata": {
        "colab": {
          "base_uri": "https://localhost:8080/",
          "height": 173
        },
        "id": "izyIiyxGKxIo",
        "outputId": "2c6c4b73-4f4d-45d9-ea4d-4607c30dda2d"
      },
      "source": [
        "#previewing my dataset\n",
        "fd.head(2)"
      ],
      "execution_count": 22,
      "outputs": [
        {
          "output_type": "execute_result",
          "data": {
            "text/html": [
              "<div>\n",
              "<style scoped>\n",
              "    .dataframe tbody tr th:only-of-type {\n",
              "        vertical-align: middle;\n",
              "    }\n",
              "\n",
              "    .dataframe tbody tr th {\n",
              "        vertical-align: top;\n",
              "    }\n",
              "\n",
              "    .dataframe thead th {\n",
              "        text-align: right;\n",
              "    }\n",
              "</style>\n",
              "<table border=\"1\" class=\"dataframe\">\n",
              "  <thead>\n",
              "    <tr style=\"text-align: right;\">\n",
              "      <th></th>\n",
              "      <th>address</th>\n",
              "      <th>bluecar_counter</th>\n",
              "      <th>utilib_counter</th>\n",
              "      <th>utilib_1.4_counter</th>\n",
              "      <th>charge_slots</th>\n",
              "      <th>charging_status</th>\n",
              "      <th>city</th>\n",
              "      <th>kind</th>\n",
              "      <th>postal_code</th>\n",
              "      <th>public_name</th>\n",
              "      <th>rental_status</th>\n",
              "      <th>slots</th>\n",
              "      <th>station_type</th>\n",
              "      <th>status</th>\n",
              "      <th>subscription_status</th>\n",
              "      <th>day</th>\n",
              "      <th>hour</th>\n",
              "      <th>minute</th>\n",
              "    </tr>\n",
              "  </thead>\n",
              "  <tbody>\n",
              "    <tr>\n",
              "      <th>0</th>\n",
              "      <td>2 Avenue de Suffren</td>\n",
              "      <td>0</td>\n",
              "      <td>0</td>\n",
              "      <td>0</td>\n",
              "      <td>0</td>\n",
              "      <td>nonexistent</td>\n",
              "      <td>Paris</td>\n",
              "      <td>STATION</td>\n",
              "      <td>75015</td>\n",
              "      <td>Paris/Suffren/2</td>\n",
              "      <td>operational</td>\n",
              "      <td>2</td>\n",
              "      <td>station</td>\n",
              "      <td>ok</td>\n",
              "      <td>nonexistent</td>\n",
              "      <td>8</td>\n",
              "      <td>11</td>\n",
              "      <td>43</td>\n",
              "    </tr>\n",
              "    <tr>\n",
              "      <th>1</th>\n",
              "      <td>145 Rue Raymond Losserand</td>\n",
              "      <td>6</td>\n",
              "      <td>0</td>\n",
              "      <td>0</td>\n",
              "      <td>0</td>\n",
              "      <td>operational</td>\n",
              "      <td>Paris</td>\n",
              "      <td>STATION</td>\n",
              "      <td>75014</td>\n",
              "      <td>Paris/Raymond Losserand/145</td>\n",
              "      <td>operational</td>\n",
              "      <td>0</td>\n",
              "      <td>station</td>\n",
              "      <td>ok</td>\n",
              "      <td>nonexistent</td>\n",
              "      <td>6</td>\n",
              "      <td>7</td>\n",
              "      <td>24</td>\n",
              "    </tr>\n",
              "  </tbody>\n",
              "</table>\n",
              "</div>"
            ],
            "text/plain": [
              "                     address  bluecar_counter  ...  hour  minute\n",
              "0        2 Avenue de Suffren                0  ...    11      43\n",
              "1  145 Rue Raymond Losserand                6  ...     7      24\n",
              "\n",
              "[2 rows x 18 columns]"
            ]
          },
          "metadata": {
            "tags": []
          },
          "execution_count": 22
        }
      ]
    },
    {
      "cell_type": "markdown",
      "metadata": {
        "id": "YC8IzGV9gED9"
      },
      "source": [
        "####1.5 Exporting Cleaned Dataset"
      ]
    },
    {
      "cell_type": "code",
      "metadata": {
        "id": "PxV8MUDchZU_"
      },
      "source": [
        "# exporting my cleaned dataframe into a csv file \n",
        "# the cleaned dataset will be used during my data analysis\n",
        "\n",
        "fd.to_csv('/content/Autolib_dataset (2).csv',index=False)\n",
        "\n"
      ],
      "execution_count": 20,
      "outputs": []
    },
    {
      "cell_type": "code",
      "metadata": {
        "colab": {
          "base_uri": "https://localhost:8080/",
          "height": 173
        },
        "id": "FIcuWkqbiBv8",
        "outputId": "cb9ac23e-67d0-4657-e89d-95f004686e38"
      },
      "source": [
        "#previewing my first two rows of my cleaned dataset.\n",
        "fd.head(2)"
      ],
      "execution_count": 24,
      "outputs": [
        {
          "output_type": "execute_result",
          "data": {
            "text/html": [
              "<div>\n",
              "<style scoped>\n",
              "    .dataframe tbody tr th:only-of-type {\n",
              "        vertical-align: middle;\n",
              "    }\n",
              "\n",
              "    .dataframe tbody tr th {\n",
              "        vertical-align: top;\n",
              "    }\n",
              "\n",
              "    .dataframe thead th {\n",
              "        text-align: right;\n",
              "    }\n",
              "</style>\n",
              "<table border=\"1\" class=\"dataframe\">\n",
              "  <thead>\n",
              "    <tr style=\"text-align: right;\">\n",
              "      <th></th>\n",
              "      <th>address</th>\n",
              "      <th>bluecar_counter</th>\n",
              "      <th>utilib_counter</th>\n",
              "      <th>utilib_1.4_counter</th>\n",
              "      <th>charge_slots</th>\n",
              "      <th>charging_status</th>\n",
              "      <th>city</th>\n",
              "      <th>kind</th>\n",
              "      <th>postal_code</th>\n",
              "      <th>public_name</th>\n",
              "      <th>rental_status</th>\n",
              "      <th>slots</th>\n",
              "      <th>station_type</th>\n",
              "      <th>status</th>\n",
              "      <th>subscription_status</th>\n",
              "      <th>day</th>\n",
              "      <th>hour</th>\n",
              "      <th>minute</th>\n",
              "    </tr>\n",
              "  </thead>\n",
              "  <tbody>\n",
              "    <tr>\n",
              "      <th>0</th>\n",
              "      <td>2 Avenue de Suffren</td>\n",
              "      <td>0</td>\n",
              "      <td>0</td>\n",
              "      <td>0</td>\n",
              "      <td>0</td>\n",
              "      <td>nonexistent</td>\n",
              "      <td>Paris</td>\n",
              "      <td>STATION</td>\n",
              "      <td>75015</td>\n",
              "      <td>Paris/Suffren/2</td>\n",
              "      <td>operational</td>\n",
              "      <td>2</td>\n",
              "      <td>station</td>\n",
              "      <td>ok</td>\n",
              "      <td>nonexistent</td>\n",
              "      <td>8</td>\n",
              "      <td>11</td>\n",
              "      <td>43</td>\n",
              "    </tr>\n",
              "    <tr>\n",
              "      <th>1</th>\n",
              "      <td>145 Rue Raymond Losserand</td>\n",
              "      <td>6</td>\n",
              "      <td>0</td>\n",
              "      <td>0</td>\n",
              "      <td>0</td>\n",
              "      <td>operational</td>\n",
              "      <td>Paris</td>\n",
              "      <td>STATION</td>\n",
              "      <td>75014</td>\n",
              "      <td>Paris/Raymond Losserand/145</td>\n",
              "      <td>operational</td>\n",
              "      <td>0</td>\n",
              "      <td>station</td>\n",
              "      <td>ok</td>\n",
              "      <td>nonexistent</td>\n",
              "      <td>6</td>\n",
              "      <td>7</td>\n",
              "      <td>24</td>\n",
              "    </tr>\n",
              "  </tbody>\n",
              "</table>\n",
              "</div>"
            ],
            "text/plain": [
              "                     address  bluecar_counter  ...  hour  minute\n",
              "0        2 Avenue de Suffren                0  ...    11      43\n",
              "1  145 Rue Raymond Losserand                6  ...     7      24\n",
              "\n",
              "[2 rows x 18 columns]"
            ]
          },
          "metadata": {
            "tags": []
          },
          "execution_count": 24
        }
      ]
    },
    {
      "cell_type": "markdown",
      "metadata": {
        "id": "UYPu8gPyLGvV"
      },
      "source": [
        "####1.6 Data Analysis"
      ]
    },
    {
      "cell_type": "markdown",
      "metadata": {
        "id": "yrPeaElcLTKy"
      },
      "source": [
        "######1.51 Research Question."
      ]
    },
    {
      "cell_type": "markdown",
      "metadata": {
        "id": "cEyX-cTaL1O0"
      },
      "source": [
        "***Most popular hour of the day for picking up a bluecar in the city of Paris***"
      ]
    },
    {
      "cell_type": "code",
      "metadata": {
        "colab": {
          "base_uri": "https://localhost:8080/"
        },
        "id": "FoahcihDK2Ds",
        "outputId": "5f798627-c171-4880-b203-e00e7b7555b9"
      },
      "source": [
        "#for picking up cars means in the station the count is zero\n",
        "#although for returning the count is greater than 0\n",
        "#NB\n",
        "#here we have been asked for picking\n",
        "fd.loc[(fd['bluecar_counter'] == 0) & (fd['city'] == 'Paris')]['hour'].value_counts().sort_values(ascending = False).head(1)\n",
        "\n",
        "#most popular hour is 2 "
      ],
      "execution_count": 25,
      "outputs": [
        {
          "output_type": "execute_result",
          "data": {
            "text/plain": [
              "2    54\n",
              "Name: hour, dtype: int64"
            ]
          },
          "metadata": {
            "tags": []
          },
          "execution_count": 25
        }
      ]
    },
    {
      "cell_type": "markdown",
      "metadata": {
        "id": "wVr5wttINR8S"
      },
      "source": [
        "######1.52 Bonus Questions"
      ]
    },
    {
      "cell_type": "markdown",
      "metadata": {
        "id": "PvUjdvdbNZUy"
      },
      "source": [
        "***What is the most popular hour of returning cars***."
      ]
    },
    {
      "cell_type": "code",
      "metadata": {
        "colab": {
          "base_uri": "https://localhost:8080/"
        },
        "id": "wfsrRJTjMxUo",
        "outputId": "0a7bd93a-2e51-41cf-9976-a64041117a9d"
      },
      "source": [
        "#cars that is blue car, utilib_counter and utilib_1.4_counter\n",
        "fd.loc[(fd['bluecar_counter'] > 0) & (fd['utilib_counter'] > 0) & (fd['utilib_1.4_counter'] > 0)]['hour'].value_counts().sort_values(ascending=False).head(1)\n",
        "\n",
        "#most popular hour is 14\n"
      ],
      "execution_count": 31,
      "outputs": [
        {
          "output_type": "execute_result",
          "data": {
            "text/plain": [
              "14    5\n",
              "Name: hour, dtype: int64"
            ]
          },
          "metadata": {
            "tags": []
          },
          "execution_count": 31
        }
      ]
    },
    {
      "cell_type": "markdown",
      "metadata": {
        "id": "DcMwoPa2O9Ec"
      },
      "source": [
        "What station is the most popular overall"
      ]
    },
    {
      "cell_type": "code",
      "metadata": {
        "colab": {
          "base_uri": "https://localhost:8080/"
        },
        "id": "2L4QhlKVOLLw",
        "outputId": "fa378ab7-cc3c-4a65-fa49-a04ea75191ce"
      },
      "source": [
        "#in the dataset description it has said the public name represents stations\n",
        "fd.groupby('station_type')['public_name'].value_counts().sort_values(ascending=False).head(1)"
      ],
      "execution_count": 34,
      "outputs": [
        {
          "output_type": "execute_result",
          "data": {
            "text/plain": [
              "station_type  public_name               \n",
              "station       Paris/Porte de Montrouge/8    13\n",
              "Name: public_name, dtype: int64"
            ]
          },
          "metadata": {
            "tags": []
          },
          "execution_count": 34
        }
      ]
    },
    {
      "cell_type": "markdown",
      "metadata": {
        "id": "E0XyaND5R_Z-"
      },
      "source": [
        "Most popular station for picking at the most picking hour"
      ]
    },
    {
      "cell_type": "code",
      "metadata": {
        "colab": {
          "base_uri": "https://localhost:8080/"
        },
        "id": "yWIrLlu7Rjso",
        "outputId": "aeac5e10-a140-494b-de5a-1c4583d0487f"
      },
      "source": [
        "#identify the most picking hour first\n",
        "fd.loc[(fd['bluecar_counter'] == 0) & (fd['utilib_counter'] == 0) & (fd['utilib_1.4_counter'] == 0)].groupby(['hour'])['hour'].value_counts().sort_values(ascending =False).head(1)"
      ],
      "execution_count": 41,
      "outputs": [
        {
          "output_type": "execute_result",
          "data": {
            "text/plain": [
              "hour  hour\n",
              "14    14      70\n",
              "Name: hour, dtype: int64"
            ]
          },
          "metadata": {
            "tags": []
          },
          "execution_count": 41
        }
      ]
    },
    {
      "cell_type": "code",
      "metadata": {
        "colab": {
          "base_uri": "https://localhost:8080/"
        },
        "id": "2zB1clSuT4wX",
        "outputId": "59ff29e9-848b-4e3c-a98f-021705d3832c"
      },
      "source": [
        "#locating the station at the most popular hour\n",
        "fd.loc[(fd['bluecar_counter'] == 0) & (fd['utilib_counter'] == 0) & (fd['utilib_1.4_counter'] == 0) & (fd['hour'] == 14)]['public_name'].value_counts().sort_values(ascending =False).head(1)"
      ],
      "execution_count": 43,
      "outputs": [
        {
          "output_type": "execute_result",
          "data": {
            "text/plain": [
              "Paris/Aumale/28    3\n",
              "Name: public_name, dtype: int64"
            ]
          },
          "metadata": {
            "tags": []
          },
          "execution_count": 43
        }
      ]
    },
    {
      "cell_type": "markdown",
      "metadata": {
        "id": "tVYEKRuDUwZ_"
      },
      "source": [
        "What postal code is the most for picking up blue cars."
      ]
    },
    {
      "cell_type": "code",
      "metadata": {
        "colab": {
          "base_uri": "https://localhost:8080/"
        },
        "id": "AEGz71UAUTom",
        "outputId": "b6b07bdb-b20d-4a62-de45-cae79c3899e6"
      },
      "source": [
        "fd.loc[fd['bluecar_counter'] == 0]['postal_code'].value_counts().sort_values(ascending = False).head(1)"
      ],
      "execution_count": 44,
      "outputs": [
        {
          "output_type": "execute_result",
          "data": {
            "text/plain": [
              "75008    94\n",
              "Name: postal_code, dtype: int64"
            ]
          },
          "metadata": {
            "tags": []
          },
          "execution_count": 44
        }
      ]
    },
    {
      "cell_type": "markdown",
      "metadata": {
        "id": "bzyz4lfvWEcT"
      },
      "source": [
        "Station for picking up blue cars"
      ]
    },
    {
      "cell_type": "code",
      "metadata": {
        "colab": {
          "base_uri": "https://localhost:8080/"
        },
        "id": "unH7ZA5nWDWp",
        "outputId": "16d7555b-3f10-429c-90ab-874d02e19659"
      },
      "source": [
        "fd.loc[(fd['bluecar_counter'] == 0)]['public_name'].value_counts().sort_values(ascending=False).head(1)"
      ],
      "execution_count": 47,
      "outputs": [
        {
          "output_type": "execute_result",
          "data": {
            "text/plain": [
              "Paris/Grenelle 31/Parking    11\n",
              "Name: public_name, dtype: int64"
            ]
          },
          "metadata": {
            "tags": []
          },
          "execution_count": 47
        }
      ]
    },
    {
      "cell_type": "markdown",
      "metadata": {
        "id": "mvGsF4skWlMc"
      },
      "source": [
        "Station for picking up cars overall"
      ]
    },
    {
      "cell_type": "code",
      "metadata": {
        "colab": {
          "base_uri": "https://localhost:8080/"
        },
        "id": "3c2LsmAtVQQk",
        "outputId": "5e33def3-8943-4710-abc2-2b52cb5511da"
      },
      "source": [
        "fd.loc[(fd['bluecar_counter'] == 0) & (fd['utilib_counter'] == 0) & (fd['utilib_1.4_counter'] == 0) & (fd['hour'] == 14)]['public_name'].value_counts().sort_values(ascending =False).head(1)"
      ],
      "execution_count": 49,
      "outputs": [
        {
          "output_type": "execute_result",
          "data": {
            "text/plain": [
              "Paris/Aumale/28    3\n",
              "Name: public_name, dtype: int64"
            ]
          },
          "metadata": {
            "tags": []
          },
          "execution_count": 49
        }
      ]
    },
    {
      "cell_type": "markdown",
      "metadata": {
        "id": "RpbwAJs-Wtk5"
      },
      "source": [
        "Does the postal code for picking up blue car belong to the public name(station) for  picking up most blue cars"
      ]
    },
    {
      "cell_type": "code",
      "metadata": {
        "colab": {
          "base_uri": "https://localhost:8080/",
          "height": 67
        },
        "id": "Ka8PvGtSXu7v",
        "outputId": "af79edca-f7c6-4350-f08f-8985f32dd30a"
      },
      "source": [
        "fd.loc[(fd['postal_code'] == 75008) & (fd['public_name'] == 'Paris/Grenelle 31/Parking')]\n",
        "\n",
        "#this means that it  doesn't belong"
      ],
      "execution_count": 51,
      "outputs": [
        {
          "output_type": "execute_result",
          "data": {
            "text/html": [
              "<div>\n",
              "<style scoped>\n",
              "    .dataframe tbody tr th:only-of-type {\n",
              "        vertical-align: middle;\n",
              "    }\n",
              "\n",
              "    .dataframe tbody tr th {\n",
              "        vertical-align: top;\n",
              "    }\n",
              "\n",
              "    .dataframe thead th {\n",
              "        text-align: right;\n",
              "    }\n",
              "</style>\n",
              "<table border=\"1\" class=\"dataframe\">\n",
              "  <thead>\n",
              "    <tr style=\"text-align: right;\">\n",
              "      <th></th>\n",
              "      <th>address</th>\n",
              "      <th>bluecar_counter</th>\n",
              "      <th>utilib_counter</th>\n",
              "      <th>utilib_1.4_counter</th>\n",
              "      <th>charge_slots</th>\n",
              "      <th>charging_status</th>\n",
              "      <th>city</th>\n",
              "      <th>kind</th>\n",
              "      <th>postal_code</th>\n",
              "      <th>public_name</th>\n",
              "      <th>rental_status</th>\n",
              "      <th>slots</th>\n",
              "      <th>station_type</th>\n",
              "      <th>status</th>\n",
              "      <th>subscription_status</th>\n",
              "      <th>day</th>\n",
              "      <th>hour</th>\n",
              "      <th>minute</th>\n",
              "    </tr>\n",
              "  </thead>\n",
              "  <tbody>\n",
              "  </tbody>\n",
              "</table>\n",
              "</div>"
            ],
            "text/plain": [
              "Empty DataFrame\n",
              "Columns: [address, bluecar_counter, utilib_counter, utilib_1.4_counter, charge_slots, charging_status, city, kind, postal_code, public_name, rental_status, slots, station_type, status, subscription_status, day, hour, minute]\n",
              "Index: []"
            ]
          },
          "metadata": {
            "tags": []
          },
          "execution_count": 51
        }
      ]
    },
    {
      "cell_type": "markdown",
      "metadata": {
        "id": "B-_kpZfzZp90"
      },
      "source": [
        "Does the most popular postal code for picking up blue car belong to the most popular public name  for the picking up most blue cars at the most picking hour(blue car)"
      ]
    },
    {
      "cell_type": "code",
      "metadata": {
        "colab": {
          "base_uri": "https://localhost:8080/",
          "height": 67
        },
        "id": "auvSdqM3X3L1",
        "outputId": "aa454cfb-c5ae-45da-c8d1-74c64808772b"
      },
      "source": [
        "fd.loc[(fd['postal_code'] == 75008) & (fd['public_name'] == 'Paris/Grenelle 31/Parking') & (fd['hour'] == 2)]\n",
        "\n",
        "#It doesn't belong."
      ],
      "execution_count": 54,
      "outputs": [
        {
          "output_type": "execute_result",
          "data": {
            "text/html": [
              "<div>\n",
              "<style scoped>\n",
              "    .dataframe tbody tr th:only-of-type {\n",
              "        vertical-align: middle;\n",
              "    }\n",
              "\n",
              "    .dataframe tbody tr th {\n",
              "        vertical-align: top;\n",
              "    }\n",
              "\n",
              "    .dataframe thead th {\n",
              "        text-align: right;\n",
              "    }\n",
              "</style>\n",
              "<table border=\"1\" class=\"dataframe\">\n",
              "  <thead>\n",
              "    <tr style=\"text-align: right;\">\n",
              "      <th></th>\n",
              "      <th>address</th>\n",
              "      <th>bluecar_counter</th>\n",
              "      <th>utilib_counter</th>\n",
              "      <th>utilib_1.4_counter</th>\n",
              "      <th>charge_slots</th>\n",
              "      <th>charging_status</th>\n",
              "      <th>city</th>\n",
              "      <th>kind</th>\n",
              "      <th>postal_code</th>\n",
              "      <th>public_name</th>\n",
              "      <th>rental_status</th>\n",
              "      <th>slots</th>\n",
              "      <th>station_type</th>\n",
              "      <th>status</th>\n",
              "      <th>subscription_status</th>\n",
              "      <th>day</th>\n",
              "      <th>hour</th>\n",
              "      <th>minute</th>\n",
              "    </tr>\n",
              "  </thead>\n",
              "  <tbody>\n",
              "  </tbody>\n",
              "</table>\n",
              "</div>"
            ],
            "text/plain": [
              "Empty DataFrame\n",
              "Columns: [address, bluecar_counter, utilib_counter, utilib_1.4_counter, charge_slots, charging_status, city, kind, postal_code, public_name, rental_status, slots, station_type, status, subscription_status, day, hour, minute]\n",
              "Index: []"
            ]
          },
          "metadata": {
            "tags": []
          },
          "execution_count": 54
        }
      ]
    },
    {
      "cell_type": "markdown",
      "metadata": {
        "id": "QGWVVK1qabR7"
      },
      "source": [
        "**Considering utilib** "
      ]
    },
    {
      "cell_type": "markdown",
      "metadata": {
        "id": "ZPYGEa88arzh"
      },
      "source": [
        "   Station for picking up utilib car"
      ]
    },
    {
      "cell_type": "code",
      "metadata": {
        "colab": {
          "base_uri": "https://localhost:8080/"
        },
        "id": "Xy7kPAUrYvVI",
        "outputId": "77feca47-8147-4339-c3ab-af05b40d1457"
      },
      "source": [
        "fd.loc[(fd['utilib_counter'] == 0)]['public_name'].value_counts().sort_values(ascending=False).head(1)"
      ],
      "execution_count": 56,
      "outputs": [
        {
          "output_type": "execute_result",
          "data": {
            "text/plain": [
              "Paris/Courcelles/69    11\n",
              "Name: public_name, dtype: int64"
            ]
          },
          "metadata": {
            "tags": []
          },
          "execution_count": 56
        }
      ]
    },
    {
      "cell_type": "markdown",
      "metadata": {
        "id": "ehKMpXAmbCxf"
      },
      "source": [
        "Postal code for picking up utilib_counter"
      ]
    },
    {
      "cell_type": "code",
      "metadata": {
        "colab": {
          "base_uri": "https://localhost:8080/"
        },
        "id": "JYBaYhu5a7Pc",
        "outputId": "91e321e9-3180-47ee-97e9-83ed003d60bd"
      },
      "source": [
        "fd.loc[fd['utilib_counter'] == 0]['postal_code'].value_counts().sort_values(ascending = False).head(1)"
      ],
      "execution_count": 58,
      "outputs": [
        {
          "output_type": "execute_result",
          "data": {
            "text/plain": [
              "75015    257\n",
              "Name: postal_code, dtype: int64"
            ]
          },
          "metadata": {
            "tags": []
          },
          "execution_count": 58
        }
      ]
    },
    {
      "cell_type": "markdown",
      "metadata": {
        "id": "CTgp3PZhdSqu"
      },
      "source": [
        "Does the Postal code for picking up utilib belong to its public name(station)"
      ]
    },
    {
      "cell_type": "code",
      "metadata": {
        "colab": {
          "base_uri": "https://localhost:8080/",
          "height": 67
        },
        "id": "1nQ_X0wMdFoZ",
        "outputId": "55aff2f8-f7dd-48cb-c088-a475dbda6853"
      },
      "source": [
        "fd.loc[(fd['postal_code'] == 75015) & (fd['public_name'] == 'Paris/Courcelles/69')]\n",
        "#doesnf belong"
      ],
      "execution_count": 59,
      "outputs": [
        {
          "output_type": "execute_result",
          "data": {
            "text/html": [
              "<div>\n",
              "<style scoped>\n",
              "    .dataframe tbody tr th:only-of-type {\n",
              "        vertical-align: middle;\n",
              "    }\n",
              "\n",
              "    .dataframe tbody tr th {\n",
              "        vertical-align: top;\n",
              "    }\n",
              "\n",
              "    .dataframe thead th {\n",
              "        text-align: right;\n",
              "    }\n",
              "</style>\n",
              "<table border=\"1\" class=\"dataframe\">\n",
              "  <thead>\n",
              "    <tr style=\"text-align: right;\">\n",
              "      <th></th>\n",
              "      <th>address</th>\n",
              "      <th>bluecar_counter</th>\n",
              "      <th>utilib_counter</th>\n",
              "      <th>utilib_1.4_counter</th>\n",
              "      <th>charge_slots</th>\n",
              "      <th>charging_status</th>\n",
              "      <th>city</th>\n",
              "      <th>kind</th>\n",
              "      <th>postal_code</th>\n",
              "      <th>public_name</th>\n",
              "      <th>rental_status</th>\n",
              "      <th>slots</th>\n",
              "      <th>station_type</th>\n",
              "      <th>status</th>\n",
              "      <th>subscription_status</th>\n",
              "      <th>day</th>\n",
              "      <th>hour</th>\n",
              "      <th>minute</th>\n",
              "    </tr>\n",
              "  </thead>\n",
              "  <tbody>\n",
              "  </tbody>\n",
              "</table>\n",
              "</div>"
            ],
            "text/plain": [
              "Empty DataFrame\n",
              "Columns: [address, bluecar_counter, utilib_counter, utilib_1.4_counter, charge_slots, charging_status, city, kind, postal_code, public_name, rental_status, slots, station_type, status, subscription_status, day, hour, minute]\n",
              "Index: []"
            ]
          },
          "metadata": {
            "tags": []
          },
          "execution_count": 59
        }
      ]
    },
    {
      "cell_type": "markdown",
      "metadata": {
        "id": "oCC6r9e7d1oM"
      },
      "source": [
        "Most time for picking utilb cars"
      ]
    },
    {
      "cell_type": "code",
      "metadata": {
        "colab": {
          "base_uri": "https://localhost:8080/"
        },
        "id": "C7GFmT0rdqb_",
        "outputId": "e93bd1db-d939-403d-c0ea-60ba5b004870"
      },
      "source": [
        "fd.loc[(fd['utilib_counter'] == 0)]['hour'].value_counts().sort_values(ascending = False).head(1)\n"
      ],
      "execution_count": 62,
      "outputs": [
        {
          "output_type": "execute_result",
          "data": {
            "text/plain": [
              "21    225\n",
              "Name: hour, dtype: int64"
            ]
          },
          "metadata": {
            "tags": []
          },
          "execution_count": 62
        }
      ]
    },
    {
      "cell_type": "markdown",
      "metadata": {
        "id": "t-ZS2hVseXyt"
      },
      "source": [
        "Does the postal code for pmicking up utilib belong to the postal code for the picking up most blue cars at the most picking hour(utilib)"
      ]
    },
    {
      "cell_type": "code",
      "metadata": {
        "colab": {
          "base_uri": "https://localhost:8080/",
          "height": 67
        },
        "id": "DY3Ux4PieFAE",
        "outputId": "54f3265c-158d-4dd8-f227-d942434367a7"
      },
      "source": [
        "fd.loc[(fd['postal_code'] == 75015) & (fd['public_name'] == 'Paris/Courcelles/69') & (fd['hour'] == 21)]\n",
        "\n",
        "#no it doesnt belong"
      ],
      "execution_count": 63,
      "outputs": [
        {
          "output_type": "execute_result",
          "data": {
            "text/html": [
              "<div>\n",
              "<style scoped>\n",
              "    .dataframe tbody tr th:only-of-type {\n",
              "        vertical-align: middle;\n",
              "    }\n",
              "\n",
              "    .dataframe tbody tr th {\n",
              "        vertical-align: top;\n",
              "    }\n",
              "\n",
              "    .dataframe thead th {\n",
              "        text-align: right;\n",
              "    }\n",
              "</style>\n",
              "<table border=\"1\" class=\"dataframe\">\n",
              "  <thead>\n",
              "    <tr style=\"text-align: right;\">\n",
              "      <th></th>\n",
              "      <th>address</th>\n",
              "      <th>bluecar_counter</th>\n",
              "      <th>utilib_counter</th>\n",
              "      <th>utilib_1.4_counter</th>\n",
              "      <th>charge_slots</th>\n",
              "      <th>charging_status</th>\n",
              "      <th>city</th>\n",
              "      <th>kind</th>\n",
              "      <th>postal_code</th>\n",
              "      <th>public_name</th>\n",
              "      <th>rental_status</th>\n",
              "      <th>slots</th>\n",
              "      <th>station_type</th>\n",
              "      <th>status</th>\n",
              "      <th>subscription_status</th>\n",
              "      <th>day</th>\n",
              "      <th>hour</th>\n",
              "      <th>minute</th>\n",
              "    </tr>\n",
              "  </thead>\n",
              "  <tbody>\n",
              "  </tbody>\n",
              "</table>\n",
              "</div>"
            ],
            "text/plain": [
              "Empty DataFrame\n",
              "Columns: [address, bluecar_counter, utilib_counter, utilib_1.4_counter, charge_slots, charging_status, city, kind, postal_code, public_name, rental_status, slots, station_type, status, subscription_status, day, hour, minute]\n",
              "Index: []"
            ]
          },
          "metadata": {
            "tags": []
          },
          "execution_count": 63
        }
      ]
    },
    {
      "cell_type": "markdown",
      "metadata": {
        "id": "Dsg7bU-ue_N8"
      },
      "source": [
        "Considering utilib_1.4"
      ]
    },
    {
      "cell_type": "markdown",
      "metadata": {
        "id": "cGB4RBdTfwxC"
      },
      "source": [
        "Station for picking up utilib_1.4"
      ]
    },
    {
      "cell_type": "code",
      "metadata": {
        "colab": {
          "base_uri": "https://localhost:8080/"
        },
        "id": "yxVvX9d9fG1y",
        "outputId": "f851aaf2-9c59-4620-d68f-38274f4a73ec"
      },
      "source": [
        "fd.loc[(fd['utilib_1.4_counter'] == 0)]['public_name'].value_counts().sort_values(ascending=False).head(1)"
      ],
      "execution_count": 64,
      "outputs": [
        {
          "output_type": "execute_result",
          "data": {
            "text/plain": [
              "Paris/Voltaire/182    11\n",
              "Name: public_name, dtype: int64"
            ]
          },
          "metadata": {
            "tags": []
          },
          "execution_count": 64
        }
      ]
    },
    {
      "cell_type": "markdown",
      "metadata": {
        "id": "5qOw2RaAf54h"
      },
      "source": [
        "Postal code for picking utilib_1.4"
      ]
    },
    {
      "cell_type": "code",
      "metadata": {
        "colab": {
          "base_uri": "https://localhost:8080/"
        },
        "id": "4jetMNYFfPEy",
        "outputId": "7ac4e281-a1a1-45c6-e47c-f6de2fd339cd"
      },
      "source": [
        "fd.loc[fd['utilib_1.4_counter'] == 0]['postal_code'].value_counts().sort_values(ascending = False).head(1)"
      ],
      "execution_count": 65,
      "outputs": [
        {
          "output_type": "execute_result",
          "data": {
            "text/plain": [
              "75015    245\n",
              "Name: postal_code, dtype: int64"
            ]
          },
          "metadata": {
            "tags": []
          },
          "execution_count": 65
        }
      ]
    },
    {
      "cell_type": "markdown",
      "metadata": {
        "id": "UgjLBQ2xgKIl"
      },
      "source": [
        "Does the Postal code for picking up utilib 1.4 counter belong to its most popular public name(station)"
      ]
    },
    {
      "cell_type": "code",
      "metadata": {
        "colab": {
          "base_uri": "https://localhost:8080/",
          "height": 67
        },
        "id": "MYECUcMJfVo7",
        "outputId": "edeb4395-c5cf-4ea6-f6a3-14ff10236455"
      },
      "source": [
        "fd.loc[(fd['postal_code'] == 75015) & (fd['public_name'] == 'Paris/Voltaire/182')]\n",
        "# it doesnt belong"
      ],
      "execution_count": 66,
      "outputs": [
        {
          "output_type": "execute_result",
          "data": {
            "text/html": [
              "<div>\n",
              "<style scoped>\n",
              "    .dataframe tbody tr th:only-of-type {\n",
              "        vertical-align: middle;\n",
              "    }\n",
              "\n",
              "    .dataframe tbody tr th {\n",
              "        vertical-align: top;\n",
              "    }\n",
              "\n",
              "    .dataframe thead th {\n",
              "        text-align: right;\n",
              "    }\n",
              "</style>\n",
              "<table border=\"1\" class=\"dataframe\">\n",
              "  <thead>\n",
              "    <tr style=\"text-align: right;\">\n",
              "      <th></th>\n",
              "      <th>address</th>\n",
              "      <th>bluecar_counter</th>\n",
              "      <th>utilib_counter</th>\n",
              "      <th>utilib_1.4_counter</th>\n",
              "      <th>charge_slots</th>\n",
              "      <th>charging_status</th>\n",
              "      <th>city</th>\n",
              "      <th>kind</th>\n",
              "      <th>postal_code</th>\n",
              "      <th>public_name</th>\n",
              "      <th>rental_status</th>\n",
              "      <th>slots</th>\n",
              "      <th>station_type</th>\n",
              "      <th>status</th>\n",
              "      <th>subscription_status</th>\n",
              "      <th>day</th>\n",
              "      <th>hour</th>\n",
              "      <th>minute</th>\n",
              "    </tr>\n",
              "  </thead>\n",
              "  <tbody>\n",
              "  </tbody>\n",
              "</table>\n",
              "</div>"
            ],
            "text/plain": [
              "Empty DataFrame\n",
              "Columns: [address, bluecar_counter, utilib_counter, utilib_1.4_counter, charge_slots, charging_status, city, kind, postal_code, public_name, rental_status, slots, station_type, status, subscription_status, day, hour, minute]\n",
              "Index: []"
            ]
          },
          "metadata": {
            "tags": []
          },
          "execution_count": 66
        }
      ]
    },
    {
      "cell_type": "markdown",
      "metadata": {
        "id": "NysSqFt6gdt4"
      },
      "source": [
        "Most picking hour for the util_1.4_counter"
      ]
    },
    {
      "cell_type": "code",
      "metadata": {
        "colab": {
          "base_uri": "https://localhost:8080/"
        },
        "id": "2kIeHznjfjk1",
        "outputId": "eac511a1-7195-43ca-d899-114acd3a40e5"
      },
      "source": [
        "fd.loc[(fd['utilib_1.4_counter'] == 0)]['hour'].value_counts().sort_values(ascending = False).head(1)"
      ],
      "execution_count": 67,
      "outputs": [
        {
          "output_type": "execute_result",
          "data": {
            "text/plain": [
              "21    214\n",
              "Name: hour, dtype: int64"
            ]
          },
          "metadata": {
            "tags": []
          },
          "execution_count": 67
        }
      ]
    },
    {
      "cell_type": "markdown",
      "metadata": {
        "id": "0xGI_sPwgqan"
      },
      "source": [
        "Does the postal code for picking up utilib_1.4 belong to the postal code for the picking up most utilib_1.4 cars at the most picking hour of utilib 1.4 counter"
      ]
    },
    {
      "cell_type": "code",
      "metadata": {
        "colab": {
          "base_uri": "https://localhost:8080/",
          "height": 67
        },
        "id": "XmrcTMM6fcHt",
        "outputId": "f6ea6bde-b581-48f7-ad3b-f0de20faae9f"
      },
      "source": [
        "fd.loc[(fd['postal_code'] == 75015) & (fd['public_name'] == 'Paris/Voltaire/182') & (fd['hour'] == 21)]"
      ],
      "execution_count": 68,
      "outputs": [
        {
          "output_type": "execute_result",
          "data": {
            "text/html": [
              "<div>\n",
              "<style scoped>\n",
              "    .dataframe tbody tr th:only-of-type {\n",
              "        vertical-align: middle;\n",
              "    }\n",
              "\n",
              "    .dataframe tbody tr th {\n",
              "        vertical-align: top;\n",
              "    }\n",
              "\n",
              "    .dataframe thead th {\n",
              "        text-align: right;\n",
              "    }\n",
              "</style>\n",
              "<table border=\"1\" class=\"dataframe\">\n",
              "  <thead>\n",
              "    <tr style=\"text-align: right;\">\n",
              "      <th></th>\n",
              "      <th>address</th>\n",
              "      <th>bluecar_counter</th>\n",
              "      <th>utilib_counter</th>\n",
              "      <th>utilib_1.4_counter</th>\n",
              "      <th>charge_slots</th>\n",
              "      <th>charging_status</th>\n",
              "      <th>city</th>\n",
              "      <th>kind</th>\n",
              "      <th>postal_code</th>\n",
              "      <th>public_name</th>\n",
              "      <th>rental_status</th>\n",
              "      <th>slots</th>\n",
              "      <th>station_type</th>\n",
              "      <th>status</th>\n",
              "      <th>subscription_status</th>\n",
              "      <th>day</th>\n",
              "      <th>hour</th>\n",
              "      <th>minute</th>\n",
              "    </tr>\n",
              "  </thead>\n",
              "  <tbody>\n",
              "  </tbody>\n",
              "</table>\n",
              "</div>"
            ],
            "text/plain": [
              "Empty DataFrame\n",
              "Columns: [address, bluecar_counter, utilib_counter, utilib_1.4_counter, charge_slots, charging_status, city, kind, postal_code, public_name, rental_status, slots, station_type, status, subscription_status, day, hour, minute]\n",
              "Index: []"
            ]
          },
          "metadata": {
            "tags": []
          },
          "execution_count": 68
        }
      ]
    },
    {
      "cell_type": "markdown",
      "metadata": {
        "id": "61HyGt6zCc-a"
      },
      "source": [
        "####1.4 Recommendations"
      ]
    },
    {
      "cell_type": "markdown",
      "metadata": {
        "id": "dTVc8oPSCXvx"
      },
      "source": [
        "I would recommend the following,\n",
        "a)The most popular station for picking up electric bluecar counter, electric utilib counter and utilib 1.4 counter which are ‘Paris/Grenelle 31/Parking’ , ‘Paris/Courcelles/69’ and ‘Paris/Voltaire/182’ respectively should be considered for expansions, renovations if need be and  even increasing the charging slots. The most popular station overall which is ‘Paris/ Porte de Montrouge/8’ should also be considered for such.\n",
        "The most popular hour for picking up a bluecar counter which is 0200 hours and 2100 for both utilib counter and utilib 1.4 counter should be put into consideration. They can say at those specific times ,employees working at the station to be more than any other times.\n",
        "\n",
        "b)The most popular hour for picking up a bluecar counter which is 0200 hours and 2100 for both utilib counter and utilib 1.4 counter should be put into consideration. They can say at those specific times ,employees working at the station to be more than any other times."
      ]
    }
  ]
}